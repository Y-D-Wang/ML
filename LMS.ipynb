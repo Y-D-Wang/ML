{
 "cells": [
  {
   "cell_type": "code",
   "execution_count": 149,
   "metadata": {},
   "outputs": [],
   "source": [
    "import numpy as np \n",
    "import matplotlib.pyplot as plt\n",
    "import random"
   ]
  },
  {
   "cell_type": "code",
   "execution_count": 150,
   "metadata": {},
   "outputs": [],
   "source": [
    "training = [[np.array([1, 2.104, 3]).transpose(), 40],\n",
    "            [np.array([1, 1.600, 3]).transpose(), 33],\n",
    "            [np.array([1, 2.400, 3]).transpose(), 36],\n",
    "            [np.array([1, 1.416, 2]).transpose(), 23],\n",
    "            [np.array([1, 3.000, 4]).transpose(), 54]]\n",
    "\n",
    "Error = []\n",
    "iter = []\n",
    "epsilon = 1\n"
   ]
  },
  {
   "cell_type": "code",
   "execution_count": 151,
   "metadata": {},
   "outputs": [
    {
     "name": "stdout",
     "output_type": "stream",
     "text": [
      "[0.388 0.905 0.576]\n",
      "0.9999755809613049\n",
      "[-6.46761541  6.27407692 10.16785211]\n",
      "11798\n"
     ]
    },
    {
     "data": {
      "image/png": "[encoded data removed]",
      "text/plain": [
       "<Figure size 432x288 with 1 Axes>"
      ]
     },
     "metadata": {
      "needs_background": "light"
     },
     "output_type": "display_data"
    }
   ],
   "source": [
    "def lms(theta):\n",
    "    i = 0\n",
    "    a = 0.001\n",
    "    error = 0\n",
    "    \n",
    "    while True:\n",
    "        for x in training:\n",
    "            h = np.dot(theta.transpose(), x[0])\n",
    "            error = x[1] - h\n",
    "            #print(str(error))\n",
    "            theta = theta + np.dot(a * error, x[0])\n",
    "        \n",
    "        #print(i)\n",
    "        Error.append(error)\n",
    "        iter.append(i)\n",
    "        i += 1\n",
    "        \n",
    "        if abs(error) < epsilon:\n",
    "            break\n",
    "    \n",
    "    print(str(error))\n",
    "    print(theta)\n",
    "    print(i)\n",
    "    plt.plot(iter, Error)\n",
    "    \n",
    "        \n",
    "t = []\n",
    "for x in range(3):\n",
    "    r = round(random.random(), 3)\n",
    "    t.append(r)\n",
    "theta = np.array(t)\n",
    "print(str(theta))\n",
    "lms(theta)\n",
    "\n"
   ]
  }
 ],
 "metadata": {
  "kernelspec": {
   "display_name": "Python 3",
   "language": "python",
   "name": "python3"
  },
  "language_info": {
   "codemirror_mode": {
    "name": "ipython",
    "version": 3
   },
   "file_extension": ".py",
   "mimetype": "text/x-python",
   "name": "python",
   "nbconvert_exporter": "python",
   "pygments_lexer": "ipython3",
   "version": "3.8.5"
  }
 },
 "nbformat": 4,
 "nbformat_minor": 4
}
